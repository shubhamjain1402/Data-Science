{
 "cells": [
  {
   "cell_type": "code",
   "execution_count": 1,
   "id": "72e30643-e6bb-491e-b20e-9344a7afdfc0",
   "metadata": {},
   "outputs": [],
   "source": [
    "import pandas as pd"
   ]
  },
  {
   "cell_type": "code",
   "execution_count": 3,
   "id": "b62ed5fc-1359-4ffc-8e39-e05c3dc340ab",
   "metadata": {},
   "outputs": [
    {
     "data": {
      "text/html": [
       "<div>\n",
       "<style scoped>\n",
       "    .dataframe tbody tr th:only-of-type {\n",
       "        vertical-align: middle;\n",
       "    }\n",
       "\n",
       "    .dataframe tbody tr th {\n",
       "        vertical-align: top;\n",
       "    }\n",
       "\n",
       "    .dataframe thead th {\n",
       "        text-align: right;\n",
       "    }\n",
       "</style>\n",
       "<table border=\"1\" class=\"dataframe\">\n",
       "  <thead>\n",
       "    <tr style=\"text-align: right;\">\n",
       "      <th></th>\n",
       "      <th>crim</th>\n",
       "      <th>zn</th>\n",
       "      <th>indus</th>\n",
       "      <th>chas</th>\n",
       "      <th>nox</th>\n",
       "      <th>rm</th>\n",
       "      <th>age</th>\n",
       "      <th>dis</th>\n",
       "      <th>rad</th>\n",
       "      <th>tax</th>\n",
       "      <th>ptratio</th>\n",
       "      <th>b</th>\n",
       "      <th>lstat</th>\n",
       "      <th>medv</th>\n",
       "    </tr>\n",
       "  </thead>\n",
       "  <tbody>\n",
       "    <tr>\n",
       "      <th>0</th>\n",
       "      <td>0.00632</td>\n",
       "      <td>18.0</td>\n",
       "      <td>2.31</td>\n",
       "      <td>0</td>\n",
       "      <td>0.538</td>\n",
       "      <td>6.575</td>\n",
       "      <td>65.2</td>\n",
       "      <td>4.0900</td>\n",
       "      <td>1</td>\n",
       "      <td>296</td>\n",
       "      <td>15.3</td>\n",
       "      <td>396.90</td>\n",
       "      <td>4.98</td>\n",
       "      <td>24.0</td>\n",
       "    </tr>\n",
       "    <tr>\n",
       "      <th>1</th>\n",
       "      <td>0.02731</td>\n",
       "      <td>0.0</td>\n",
       "      <td>7.07</td>\n",
       "      <td>0</td>\n",
       "      <td>0.469</td>\n",
       "      <td>6.421</td>\n",
       "      <td>78.9</td>\n",
       "      <td>4.9671</td>\n",
       "      <td>2</td>\n",
       "      <td>242</td>\n",
       "      <td>17.8</td>\n",
       "      <td>396.90</td>\n",
       "      <td>9.14</td>\n",
       "      <td>21.6</td>\n",
       "    </tr>\n",
       "    <tr>\n",
       "      <th>2</th>\n",
       "      <td>0.02729</td>\n",
       "      <td>0.0</td>\n",
       "      <td>7.07</td>\n",
       "      <td>0</td>\n",
       "      <td>0.469</td>\n",
       "      <td>7.185</td>\n",
       "      <td>61.1</td>\n",
       "      <td>4.9671</td>\n",
       "      <td>2</td>\n",
       "      <td>242</td>\n",
       "      <td>17.8</td>\n",
       "      <td>392.83</td>\n",
       "      <td>4.03</td>\n",
       "      <td>34.7</td>\n",
       "    </tr>\n",
       "  </tbody>\n",
       "</table>\n",
       "</div>"
      ],
      "text/plain": [
       "      crim    zn  indus  chas    nox     rm   age     dis  rad  tax  ptratio  \\\n",
       "0  0.00632  18.0   2.31     0  0.538  6.575  65.2  4.0900    1  296     15.3   \n",
       "1  0.02731   0.0   7.07     0  0.469  6.421  78.9  4.9671    2  242     17.8   \n",
       "2  0.02729   0.0   7.07     0  0.469  7.185  61.1  4.9671    2  242     17.8   \n",
       "\n",
       "        b  lstat  medv  \n",
       "0  396.90   4.98  24.0  \n",
       "1  396.90   9.14  21.6  \n",
       "2  392.83   4.03  34.7  "
      ]
     },
     "execution_count": 3,
     "metadata": {},
     "output_type": "execute_result"
    }
   ],
   "source": [
    "dataset = pd.read_csv(\"C:\\\\Users\\\\shubh\\\\Downloads\\\\Coding\\\\ML\\\\BostonHousing.csv\")\n",
    "dataset.head(3)"
   ]
  },
  {
   "cell_type": "code",
   "execution_count": 4,
   "id": "4f12a82b-6c1e-4e52-8fc1-23983ba53c04",
   "metadata": {},
   "outputs": [],
   "source": [
    "input_data=dataset.iloc[:,:-1]\n",
    "output_data=dataset[\"medv\"]"
   ]
  },
  {
   "cell_type": "code",
   "execution_count": 5,
   "id": "6b258757-81fe-4e04-8e6b-1e909273dae5",
   "metadata": {},
   "outputs": [],
   "source": [
    "from sklearn.model_selection import train_test_split"
   ]
  },
  {
   "cell_type": "code",
   "execution_count": 6,
   "id": "c3e9d6c7-2892-4abf-ba74-6bfdc21d4d09",
   "metadata": {},
   "outputs": [],
   "source": [
    "x_train,x_test,y_train,y_test=train_test_split(input_data,output_data,test_size=0.25) #if data>10000 then 30%can ber"
   ]
  },
  {
   "cell_type": "code",
   "execution_count": 7,
   "id": "1c6aad17-1ca3-4a45-9df4-7e48fc669416",
   "metadata": {},
   "outputs": [
    {
     "data": {
      "text/plain": [
       "(         crim    zn  indus  chas    nox     rm    age     dis  rad  tax  \\\n",
       " 163   1.51902   0.0  19.58     1  0.605  8.375   93.9  2.1620    5  403   \n",
       " 159   1.42502   0.0  19.58     0  0.871  6.510  100.0  1.7659    5  403   \n",
       " 183   0.10008   0.0   2.46     0  0.488  6.563   95.6  2.8470    3  193   \n",
       " 143   4.09740   0.0  19.58     0  0.871  5.468  100.0  1.4118    5  403   \n",
       " 340   0.06151   0.0   5.19     0  0.515  5.968   58.5  4.8122    5  224   \n",
       " ..        ...   ...    ...   ...    ...    ...    ...     ...  ...  ...   \n",
       " 169   2.44953   0.0  19.58     0  0.605  6.402   95.2  2.2625    5  403   \n",
       " 278   0.07978  40.0   6.41     0  0.447  6.482   32.1  4.1403    4  254   \n",
       " 419  11.81230   0.0  18.10     0  0.718  6.824   76.5  1.7940   24  666   \n",
       " 322   0.35114   0.0   7.38     0  0.493  6.041   49.9  4.7211    5  287   \n",
       " 292   0.03615  80.0   4.95     0  0.411  6.630   23.4  5.1167    4  245   \n",
       " \n",
       "      ptratio       b  lstat  \n",
       " 163     14.7  388.45   3.32  \n",
       " 159     14.7  364.31   7.39  \n",
       " 183     17.8  396.90   5.68  \n",
       " 143     14.7  396.90  26.42  \n",
       " 340     20.2  396.90   9.29  \n",
       " ..       ...     ...    ...  \n",
       " 169     14.7  330.04  11.32  \n",
       " 278     17.6  396.90   7.19  \n",
       " 419     20.2   48.45  22.74  \n",
       " 322     19.6  396.90   7.70  \n",
       " 292     19.2  396.90   4.70  \n",
       " \n",
       " [379 rows x 13 columns],\n",
       "          crim    zn  indus  chas     nox     rm   age     dis  rad  tax  \\\n",
       " 161   1.46336   0.0  19.58     0  0.6050  7.489  90.8  1.9709    5  403   \n",
       " 289   0.04297  52.5   5.32     0  0.4050  6.565  22.9  7.3172    6  293   \n",
       " 436  14.42080   0.0  18.10     0  0.7400  6.461  93.3  2.0026   24  666   \n",
       " 481   5.70818   0.0  18.10     0  0.5320  6.750  74.9  3.3317   24  666   \n",
       " 176   0.07022   0.0   4.05     0  0.5100  6.020  47.2  3.5549    5  296   \n",
       " ..        ...   ...    ...   ...     ...    ...   ...     ...  ...  ...   \n",
       " 464   7.83932   0.0  18.10     0  0.6550  6.209  65.4  2.9634   24  666   \n",
       " 64    0.01951  17.5   1.38     0  0.4161  7.104  59.5  9.2229    3  216   \n",
       " 66    0.04379  80.0   3.37     0  0.3980  5.787  31.1  6.6115    4  337   \n",
       " 273   0.22188  20.0   6.96     1  0.4640  7.691  51.8  4.3665    3  223   \n",
       " 500   0.22438   0.0   9.69     0  0.5850  6.027  79.7  2.4982    6  391   \n",
       " \n",
       "      ptratio       b  lstat  \n",
       " 161     14.7  374.43   1.73  \n",
       " 289     16.6  371.72   9.51  \n",
       " 436     20.2   27.49  18.05  \n",
       " 481     20.2  393.07   7.74  \n",
       " 176     16.6  393.23  10.11  \n",
       " ..       ...     ...    ...  \n",
       " 464     20.2  396.90  13.22  \n",
       " 64      18.6  393.24   8.05  \n",
       " 66      16.1  396.90  10.24  \n",
       " 273     18.6  390.77   6.58  \n",
       " 500     19.2  396.90  14.33  \n",
       " \n",
       " [127 rows x 13 columns],\n",
       " 163    50.0\n",
       " 159    23.3\n",
       " 183    32.5\n",
       " 143    15.6\n",
       " 340    18.7\n",
       "        ... \n",
       " 169    22.3\n",
       " 278    29.1\n",
       " 419     8.4\n",
       " 322    20.4\n",
       " 292    27.9\n",
       " Name: medv, Length: 379, dtype: float64,\n",
       " 161    50.0\n",
       " 289    24.8\n",
       " 436     9.6\n",
       " 481    23.7\n",
       " 176    23.2\n",
       "        ... \n",
       " 464    21.4\n",
       " 64     33.0\n",
       " 66     19.4\n",
       " 273    35.2\n",
       " 500    16.8\n",
       " Name: medv, Length: 127, dtype: float64)"
      ]
     },
     "execution_count": 7,
     "metadata": {},
     "output_type": "execute_result"
    }
   ],
   "source": [
    "x_train,x_test,y_train,y_test"
   ]
  },
  {
   "cell_type": "code",
   "execution_count": 8,
   "id": "625e2697-873c-4d71-8eba-ff564805241f",
   "metadata": {},
   "outputs": [
    {
     "data": {
      "text/plain": [
       "(506, 14)"
      ]
     },
     "execution_count": 8,
     "metadata": {},
     "output_type": "execute_result"
    }
   ],
   "source": [
    "dataset.shape"
   ]
  },
  {
   "cell_type": "code",
   "execution_count": 9,
   "id": "32834f5b-e3f1-49d3-9e12-8923fcfb6928",
   "metadata": {},
   "outputs": [
    {
     "data": {
      "text/plain": [
       "(379, 13)"
      ]
     },
     "execution_count": 9,
     "metadata": {},
     "output_type": "execute_result"
    }
   ],
   "source": [
    "x_train.shape"
   ]
  },
  {
   "cell_type": "code",
   "execution_count": 10,
   "id": "d5871ed3-88b3-455e-9428-34807c6ba595",
   "metadata": {},
   "outputs": [
    {
     "data": {
      "text/plain": [
       "(127, 13)"
      ]
     },
     "execution_count": 10,
     "metadata": {},
     "output_type": "execute_result"
    }
   ],
   "source": [
    "x_test.shape"
   ]
  },
  {
   "cell_type": "code",
   "execution_count": 12,
   "id": "1d5617dd-a0aa-49f5-8151-56d9aa73317b",
   "metadata": {},
   "outputs": [
    {
     "data": {
      "text/plain": [
       "(379,)"
      ]
     },
     "execution_count": 12,
     "metadata": {},
     "output_type": "execute_result"
    }
   ],
   "source": [
    "y_train.shape"
   ]
  },
  {
   "cell_type": "code",
   "execution_count": 13,
   "id": "6b15d3a5-7e77-4fc2-85b6-bb92f3e2fcfc",
   "metadata": {},
   "outputs": [
    {
     "data": {
      "text/plain": [
       "(127,)"
      ]
     },
     "execution_count": 13,
     "metadata": {},
     "output_type": "execute_result"
    }
   ],
   "source": [
    "y_test.shape"
   ]
  },
  {
   "cell_type": "code",
   "execution_count": null,
   "id": "6f428506-22b0-4183-88aa-9c41b0c6ee42",
   "metadata": {},
   "outputs": [],
   "source": []
  }
 ],
 "metadata": {
  "kernelspec": {
   "display_name": "Python 3 (ipykernel)",
   "language": "python",
   "name": "python3"
  },
  "language_info": {
   "codemirror_mode": {
    "name": "ipython",
    "version": 3
   },
   "file_extension": ".py",
   "mimetype": "text/x-python",
   "name": "python",
   "nbconvert_exporter": "python",
   "pygments_lexer": "ipython3",
   "version": "3.11.5"
  }
 },
 "nbformat": 4,
 "nbformat_minor": 5
}

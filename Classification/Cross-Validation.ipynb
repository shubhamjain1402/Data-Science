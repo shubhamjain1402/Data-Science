{
 "cells": [
  {
   "cell_type": "code",
   "execution_count": 1,
   "id": "4d390c79-c7a5-4838-a180-5b9c4d39abe6",
   "metadata": {},
   "outputs": [],
   "source": [
    "import pandas as pd\n",
    "import matplotlib.pyplot as plt\n",
    "import seaborn as sns"
   ]
  },
  {
   "cell_type": "code",
   "execution_count": 6,
   "id": "0ee2b30f-7c32-4571-b3e7-7c51e6717c84",
   "metadata": {},
   "outputs": [
    {
     "data": {
      "text/html": [
       "<div>\n",
       "<style scoped>\n",
       "    .dataframe tbody tr th:only-of-type {\n",
       "        vertical-align: middle;\n",
       "    }\n",
       "\n",
       "    .dataframe tbody tr th {\n",
       "        vertical-align: top;\n",
       "    }\n",
       "\n",
       "    .dataframe thead th {\n",
       "        text-align: right;\n",
       "    }\n",
       "</style>\n",
       "<table border=\"1\" class=\"dataframe\">\n",
       "  <thead>\n",
       "    <tr style=\"text-align: right;\">\n",
       "      <th></th>\n",
       "      <th>cgpa</th>\n",
       "      <th>package</th>\n",
       "    </tr>\n",
       "  </thead>\n",
       "  <tbody>\n",
       "    <tr>\n",
       "      <th>0</th>\n",
       "      <td>6.89</td>\n",
       "      <td>3.26</td>\n",
       "    </tr>\n",
       "    <tr>\n",
       "      <th>1</th>\n",
       "      <td>5.12</td>\n",
       "      <td>1.98</td>\n",
       "    </tr>\n",
       "    <tr>\n",
       "      <th>2</th>\n",
       "      <td>7.82</td>\n",
       "      <td>3.25</td>\n",
       "    </tr>\n",
       "  </tbody>\n",
       "</table>\n",
       "</div>"
      ],
      "text/plain": [
       "   cgpa  package\n",
       "0  6.89     3.26\n",
       "1  5.12     1.98\n",
       "2  7.82     3.25"
      ]
     },
     "execution_count": 6,
     "metadata": {},
     "output_type": "execute_result"
    }
   ],
   "source": [
    "dataset=pd.read_csv(r\"C:\\Users\\shubh\\Downloads\\Coding\\ML\\placement.csv\")\n",
    "dataset.head(3)"
   ]
  },
  {
   "cell_type": "code",
   "execution_count": 7,
   "id": "13183619-09f5-4946-b884-09dd6e7e3776",
   "metadata": {},
   "outputs": [
    {
     "data": {
      "text/plain": [
       "cgpa       0\n",
       "package    0\n",
       "dtype: int64"
      ]
     },
     "execution_count": 7,
     "metadata": {},
     "output_type": "execute_result"
    }
   ],
   "source": [
    "dataset.isnull().sum()"
   ]
  },
  {
   "cell_type": "code",
   "execution_count": 8,
   "id": "f68b2e37-bc45-4460-808b-4a144fb27aad",
   "metadata": {},
   "outputs": [
    {
     "data": {
      "text/plain": [
       "(200, 2)"
      ]
     },
     "execution_count": 8,
     "metadata": {},
     "output_type": "execute_result"
    }
   ],
   "source": [
    "dataset.shape"
   ]
  },
  {
   "cell_type": "code",
   "execution_count": 9,
   "id": "76686d04-17a2-49cf-aa42-f1f7fe650ed1",
   "metadata": {},
   "outputs": [],
   "source": [
    "x=dataset[[\"cgpa\"]]\n",
    "y=dataset[\"package\"]"
   ]
  },
  {
   "cell_type": "code",
   "execution_count": 10,
   "id": "bcd649b7-ff4b-4d89-a242-7bfbfe77b339",
   "metadata": {},
   "outputs": [],
   "source": [
    "new_data=dataset.head(10)"
   ]
  },
  {
   "cell_type": "code",
   "execution_count": 11,
   "id": "062cf8b9-7e24-40a1-b3c1-78b8c76d81ba",
   "metadata": {},
   "outputs": [],
   "source": [
    "from sklearn.model_selection import LeaveOneOut,LeavePOut,KFold,StratifiedKFold"
   ]
  },
  {
   "cell_type": "code",
   "execution_count": 15,
   "id": "1504cb20-d9d6-4d4c-b812-641ec6079899",
   "metadata": {},
   "outputs": [
    {
     "name": "stdout",
     "output_type": "stream",
     "text": [
      "[1 2 3 4 5 6 7 8 9] [0]\n",
      "[0 2 3 4 5 6 7 8 9] [1]\n",
      "[0 1 3 4 5 6 7 8 9] [2]\n",
      "[0 1 2 4 5 6 7 8 9] [3]\n",
      "[0 1 2 3 5 6 7 8 9] [4]\n",
      "[0 1 2 3 4 6 7 8 9] [5]\n",
      "[0 1 2 3 4 5 7 8 9] [6]\n",
      "[0 1 2 3 4 5 6 8 9] [7]\n",
      "[0 1 2 3 4 5 6 7 9] [8]\n",
      "[0 1 2 3 4 5 6 7 8] [9]\n"
     ]
    }
   ],
   "source": [
    "lo = LeaveOneOut()\n",
    "\n",
    "for train,test in lo.split(x_new,y_new):\n",
    "    print(train,test)"
   ]
  },
  {
   "cell_type": "code",
   "execution_count": 14,
   "id": "be0d27ca-62da-4055-b08d-d6a277c723ca",
   "metadata": {},
   "outputs": [],
   "source": [
    "x_new=new_data[[\"cgpa\"]]\n",
    "y_new=new_data[\"package\"]"
   ]
  },
  {
   "cell_type": "code",
   "execution_count": null,
   "id": "59b72a9d-bf3a-4d27-8622-9de2f73fe1cb",
   "metadata": {},
   "outputs": [],
   "source": []
  },
  {
   "cell_type": "code",
   "execution_count": 16,
   "id": "c4be69a9-1c61-4c77-a66a-a8ddaa0c26d3",
   "metadata": {},
   "outputs": [
    {
     "name": "stdout",
     "output_type": "stream",
     "text": [
      "[3 4 5 6 7 8 9] [0 1 2]\n",
      "[2 4 5 6 7 8 9] [0 1 3]\n",
      "[2 3 5 6 7 8 9] [0 1 4]\n",
      "[2 3 4 6 7 8 9] [0 1 5]\n",
      "[2 3 4 5 7 8 9] [0 1 6]\n",
      "[2 3 4 5 6 8 9] [0 1 7]\n",
      "[2 3 4 5 6 7 9] [0 1 8]\n",
      "[2 3 4 5 6 7 8] [0 1 9]\n",
      "[1 4 5 6 7 8 9] [0 2 3]\n",
      "[1 3 5 6 7 8 9] [0 2 4]\n",
      "[1 3 4 6 7 8 9] [0 2 5]\n",
      "[1 3 4 5 7 8 9] [0 2 6]\n",
      "[1 3 4 5 6 8 9] [0 2 7]\n",
      "[1 3 4 5 6 7 9] [0 2 8]\n",
      "[1 3 4 5 6 7 8] [0 2 9]\n",
      "[1 2 5 6 7 8 9] [0 3 4]\n",
      "[1 2 4 6 7 8 9] [0 3 5]\n",
      "[1 2 4 5 7 8 9] [0 3 6]\n",
      "[1 2 4 5 6 8 9] [0 3 7]\n",
      "[1 2 4 5 6 7 9] [0 3 8]\n",
      "[1 2 4 5 6 7 8] [0 3 9]\n",
      "[1 2 3 6 7 8 9] [0 4 5]\n",
      "[1 2 3 5 7 8 9] [0 4 6]\n",
      "[1 2 3 5 6 8 9] [0 4 7]\n",
      "[1 2 3 5 6 7 9] [0 4 8]\n",
      "[1 2 3 5 6 7 8] [0 4 9]\n",
      "[1 2 3 4 7 8 9] [0 5 6]\n",
      "[1 2 3 4 6 8 9] [0 5 7]\n",
      "[1 2 3 4 6 7 9] [0 5 8]\n",
      "[1 2 3 4 6 7 8] [0 5 9]\n",
      "[1 2 3 4 5 8 9] [0 6 7]\n",
      "[1 2 3 4 5 7 9] [0 6 8]\n",
      "[1 2 3 4 5 7 8] [0 6 9]\n",
      "[1 2 3 4 5 6 9] [0 7 8]\n",
      "[1 2 3 4 5 6 8] [0 7 9]\n",
      "[1 2 3 4 5 6 7] [0 8 9]\n",
      "[0 4 5 6 7 8 9] [1 2 3]\n",
      "[0 3 5 6 7 8 9] [1 2 4]\n",
      "[0 3 4 6 7 8 9] [1 2 5]\n",
      "[0 3 4 5 7 8 9] [1 2 6]\n",
      "[0 3 4 5 6 8 9] [1 2 7]\n",
      "[0 3 4 5 6 7 9] [1 2 8]\n",
      "[0 3 4 5 6 7 8] [1 2 9]\n",
      "[0 2 5 6 7 8 9] [1 3 4]\n",
      "[0 2 4 6 7 8 9] [1 3 5]\n",
      "[0 2 4 5 7 8 9] [1 3 6]\n",
      "[0 2 4 5 6 8 9] [1 3 7]\n",
      "[0 2 4 5 6 7 9] [1 3 8]\n",
      "[0 2 4 5 6 7 8] [1 3 9]\n",
      "[0 2 3 6 7 8 9] [1 4 5]\n",
      "[0 2 3 5 7 8 9] [1 4 6]\n",
      "[0 2 3 5 6 8 9] [1 4 7]\n",
      "[0 2 3 5 6 7 9] [1 4 8]\n",
      "[0 2 3 5 6 7 8] [1 4 9]\n",
      "[0 2 3 4 7 8 9] [1 5 6]\n",
      "[0 2 3 4 6 8 9] [1 5 7]\n",
      "[0 2 3 4 6 7 9] [1 5 8]\n",
      "[0 2 3 4 6 7 8] [1 5 9]\n",
      "[0 2 3 4 5 8 9] [1 6 7]\n",
      "[0 2 3 4 5 7 9] [1 6 8]\n",
      "[0 2 3 4 5 7 8] [1 6 9]\n",
      "[0 2 3 4 5 6 9] [1 7 8]\n",
      "[0 2 3 4 5 6 8] [1 7 9]\n",
      "[0 2 3 4 5 6 7] [1 8 9]\n",
      "[0 1 5 6 7 8 9] [2 3 4]\n",
      "[0 1 4 6 7 8 9] [2 3 5]\n",
      "[0 1 4 5 7 8 9] [2 3 6]\n",
      "[0 1 4 5 6 8 9] [2 3 7]\n",
      "[0 1 4 5 6 7 9] [2 3 8]\n",
      "[0 1 4 5 6 7 8] [2 3 9]\n",
      "[0 1 3 6 7 8 9] [2 4 5]\n",
      "[0 1 3 5 7 8 9] [2 4 6]\n",
      "[0 1 3 5 6 8 9] [2 4 7]\n",
      "[0 1 3 5 6 7 9] [2 4 8]\n",
      "[0 1 3 5 6 7 8] [2 4 9]\n",
      "[0 1 3 4 7 8 9] [2 5 6]\n",
      "[0 1 3 4 6 8 9] [2 5 7]\n",
      "[0 1 3 4 6 7 9] [2 5 8]\n",
      "[0 1 3 4 6 7 8] [2 5 9]\n",
      "[0 1 3 4 5 8 9] [2 6 7]\n",
      "[0 1 3 4 5 7 9] [2 6 8]\n",
      "[0 1 3 4 5 7 8] [2 6 9]\n",
      "[0 1 3 4 5 6 9] [2 7 8]\n",
      "[0 1 3 4 5 6 8] [2 7 9]\n",
      "[0 1 3 4 5 6 7] [2 8 9]\n",
      "[0 1 2 6 7 8 9] [3 4 5]\n",
      "[0 1 2 5 7 8 9] [3 4 6]\n",
      "[0 1 2 5 6 8 9] [3 4 7]\n",
      "[0 1 2 5 6 7 9] [3 4 8]\n",
      "[0 1 2 5 6 7 8] [3 4 9]\n",
      "[0 1 2 4 7 8 9] [3 5 6]\n",
      "[0 1 2 4 6 8 9] [3 5 7]\n",
      "[0 1 2 4 6 7 9] [3 5 8]\n",
      "[0 1 2 4 6 7 8] [3 5 9]\n",
      "[0 1 2 4 5 8 9] [3 6 7]\n",
      "[0 1 2 4 5 7 9] [3 6 8]\n",
      "[0 1 2 4 5 7 8] [3 6 9]\n",
      "[0 1 2 4 5 6 9] [3 7 8]\n",
      "[0 1 2 4 5 6 8] [3 7 9]\n",
      "[0 1 2 4 5 6 7] [3 8 9]\n",
      "[0 1 2 3 7 8 9] [4 5 6]\n",
      "[0 1 2 3 6 8 9] [4 5 7]\n",
      "[0 1 2 3 6 7 9] [4 5 8]\n",
      "[0 1 2 3 6 7 8] [4 5 9]\n",
      "[0 1 2 3 5 8 9] [4 6 7]\n",
      "[0 1 2 3 5 7 9] [4 6 8]\n",
      "[0 1 2 3 5 7 8] [4 6 9]\n",
      "[0 1 2 3 5 6 9] [4 7 8]\n",
      "[0 1 2 3 5 6 8] [4 7 9]\n",
      "[0 1 2 3 5 6 7] [4 8 9]\n",
      "[0 1 2 3 4 8 9] [5 6 7]\n",
      "[0 1 2 3 4 7 9] [5 6 8]\n",
      "[0 1 2 3 4 7 8] [5 6 9]\n",
      "[0 1 2 3 4 6 9] [5 7 8]\n",
      "[0 1 2 3 4 6 8] [5 7 9]\n",
      "[0 1 2 3 4 6 7] [5 8 9]\n",
      "[0 1 2 3 4 5 9] [6 7 8]\n",
      "[0 1 2 3 4 5 8] [6 7 9]\n",
      "[0 1 2 3 4 5 7] [6 8 9]\n",
      "[0 1 2 3 4 5 6] [7 8 9]\n"
     ]
    }
   ],
   "source": [
    "lp=LeavePOut(p=3)\n",
    "\n",
    "for train,test in lp.split(x_new,y_new):\n",
    "    print(train,test)"
   ]
  },
  {
   "cell_type": "code",
   "execution_count": null,
   "id": "1719d9da-25a2-46c3-8ba6-e34e99d4a9a1",
   "metadata": {},
   "outputs": [],
   "source": []
  },
  {
   "cell_type": "code",
   "execution_count": 17,
   "id": "1f0acbae-352f-4ef2-be39-d9c4440209d8",
   "metadata": {},
   "outputs": [
    {
     "name": "stdout",
     "output_type": "stream",
     "text": [
      "[2 3 4 5 6 7 8 9] [0 1]\n",
      "[0 1 4 5 6 7 8 9] [2 3]\n",
      "[0 1 2 3 6 7 8 9] [4 5]\n",
      "[0 1 2 3 4 5 8 9] [6 7]\n",
      "[0 1 2 3 4 5 6 7] [8 9]\n"
     ]
    }
   ],
   "source": [
    "kf=KFold(n_splits=5)\n",
    "\n",
    "for train,test in kf.split(x_new,y_new):\n",
    "    print(train,test)"
   ]
  },
  {
   "cell_type": "code",
   "execution_count": null,
   "id": "732e6166-b28f-4db1-9ae9-c9865776a397",
   "metadata": {},
   "outputs": [],
   "source": []
  },
  {
   "cell_type": "code",
   "execution_count": null,
   "id": "8339ba20-36e8-4cbb-a0e5-86749541882b",
   "metadata": {},
   "outputs": [],
   "source": []
  },
  {
   "cell_type": "code",
   "execution_count": 20,
   "id": "a465d2ae-3ad4-40b0-a3c4-63333059c052",
   "metadata": {},
   "outputs": [],
   "source": [
    "# skf=StratifiedKFold(n_splits=5)\n",
    "\n",
    "# for train,test in skf.split(x_new,y_new):  \n",
    "#     print(train,test)\n",
    "#will only work for classification"
   ]
  },
  {
   "cell_type": "code",
   "execution_count": 21,
   "id": "f71b6ccc-a31d-463b-895a-ba98028ae057",
   "metadata": {},
   "outputs": [],
   "source": [
    "from sklearn.linear_model import LinearRegression"
   ]
  },
  {
   "cell_type": "code",
   "execution_count": 22,
   "id": "0d21a9be-92cf-43c1-89fc-82506122c032",
   "metadata": {},
   "outputs": [],
   "source": [
    "from sklearn.model_selection import cross_val_score"
   ]
  },
  {
   "cell_type": "code",
   "execution_count": 24,
   "id": "4dff3c45-3205-4eb2-9c5d-f0419d2e3fcc",
   "metadata": {},
   "outputs": [],
   "source": [
    "p=cross_val_score(LinearRegression(),x,y,cv=5)"
   ]
  },
  {
   "cell_type": "code",
   "execution_count": 26,
   "id": "48eaee29-03e1-45db-a63f-bf1566a963c5",
   "metadata": {},
   "outputs": [
    {
     "data": {
      "text/plain": [
       "array([70.88712673, 75.39804264, 75.68383749, 78.0867752 , 79.05176315])"
      ]
     },
     "execution_count": 26,
     "metadata": {},
     "output_type": "execute_result"
    }
   ],
   "source": [
    "p.sort()\n",
    "p*100"
   ]
  },
  {
   "cell_type": "code",
   "execution_count": 27,
   "id": "ea7b06c0-d804-4f17-abec-e00c91f1bc8f",
   "metadata": {},
   "outputs": [],
   "source": [
    "p=cross_val_score(LinearRegression(),x,y,cv=KFold(n_splits=10))"
   ]
  },
  {
   "cell_type": "code",
   "execution_count": 28,
   "id": "27b1ffde-8393-4e32-9de5-f66ee9dcbd98",
   "metadata": {},
   "outputs": [
    {
     "data": {
      "text/plain": [
       "array([0.65675401, 0.82098636, 0.73505991, 0.82647996, 0.80318103,\n",
       "       0.69890411, 0.67205239, 0.83963336, 0.60480008, 0.74376167])"
      ]
     },
     "execution_count": 28,
     "metadata": {},
     "output_type": "execute_result"
    }
   ],
   "source": [
    "p"
   ]
  },
  {
   "cell_type": "code",
   "execution_count": null,
   "id": "c3e617a4-98e7-44ac-b8ec-b76408a87e95",
   "metadata": {},
   "outputs": [],
   "source": []
  }
 ],
 "metadata": {
  "kernelspec": {
   "display_name": "Python 3 (ipykernel)",
   "language": "python",
   "name": "python3"
  },
  "language_info": {
   "codemirror_mode": {
    "name": "ipython",
    "version": 3
   },
   "file_extension": ".py",
   "mimetype": "text/x-python",
   "name": "python",
   "nbconvert_exporter": "python",
   "pygments_lexer": "ipython3",
   "version": "3.11.5"
  }
 },
 "nbformat": 4,
 "nbformat_minor": 5
}

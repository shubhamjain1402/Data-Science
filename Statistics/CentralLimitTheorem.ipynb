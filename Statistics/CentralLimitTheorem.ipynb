{
 "cells": [
  {
   "cell_type": "code",
   "execution_count": null,
   "id": "2ca76fda-b9e0-425d-b40f-222f32be9add",
   "metadata": {},
   "outputs": [],
   "source": [
    "import numpy as np\n",
    "import seaborn as sns\n",
    "import matplotlib.pyplot as plt\n",
    "import pandas as pd"
   ]
  },
  {
   "cell_type": "code",
   "execution_count": null,
   "id": "a98176b9-ccf0-4e89-ac6d-b649d338b8d7",
   "metadata": {},
   "outputs": [],
   "source": [
    "pop_data=[np.random.randint(10,100) for i in range(10000)]\n",
    "pop_table=pd.DataFrame({\"Pop_data\":pop_data})"
   ]
  },
  {
   "cell_type": "code",
   "execution_count": null,
   "id": "f3641079-37cf-4825-b646-8f17fec3a3d7",
   "metadata": {},
   "outputs": [],
   "source": [
    "pop_data.mean()"
   ]
  },
  {
   "cell_type": "code",
   "execution_count": null,
   "id": "2638ee88-722f-426f-aa0d-04f6e9bcb2ac",
   "metadata": {},
   "outputs": [],
   "source": [
    "plt.figure(figsize=(3,2))\n",
    "sns.kdeplot(x=\"Pop_data\",data=pop_table)\n",
    "plt.show()"
   ]
  },
  {
   "cell_type": "code",
   "execution_count": null,
   "id": "af0cbb44-a396-41ae-a11b-133c1ffd1a06",
   "metadata": {},
   "outputs": [],
   "source": [
    "sample_mean=[]\n",
    "for no_sample in range(70):\n",
    "    sample_data=[]\n",
    "    for data in range(500):\n",
    "        sample_data.append(np.random.choice(pop_data))\n",
    "    sample_mean.append(np.mean(sample_data))"
   ]
  },
  {
   "cell_type": "code",
   "execution_count": 17,
   "id": "e1ebe5e5-9e6d-4464-8f7d-6ede76380a65",
   "metadata": {},
   "outputs": [
    {
     "data": {
      "text/plain": [
       "55.01611428571429"
      ]
     },
     "execution_count": 17,
     "metadata": {},
     "output_type": "execute_result"
    }
   ],
   "source": [
    "np.mean(sample_mean)"
   ]
  },
  {
   "cell_type": "code",
   "execution_count": null,
   "id": "86b3ef8a-c05a-4ee3-9bc3-1cd7c4a541e4",
   "metadata": {},
   "outputs": [],
   "source": [
    "sample_M=pd.DataFrame({\"Sample_Mean\":sample_mean})"
   ]
  },
  {
   "cell_type": "code",
   "execution_count": null,
   "id": "2667bae9-930a-48e4-91ed-48d5052c85c6",
   "metadata": {},
   "outputs": [],
   "source": [
    "plt.figure(figsize=(3,2))\n",
    "sns.kdeplot(x=\"Sample_Mean\",data=sample_M)\n",
    "plt.show()"
   ]
  },
  {
   "cell_type": "code",
   "execution_count": null,
   "id": "13c5dfdd-5908-4aa0-b98e-bb6a4f1494bf",
   "metadata": {},
   "outputs": [],
   "source": []
  }
 ],
 "metadata": {
  "kernelspec": {
   "display_name": "Python 3 (ipykernel)",
   "language": "python",
   "name": "python3"
  },
  "language_info": {
   "codemirror_mode": {
    "name": "ipython",
    "version": 3
   },
   "file_extension": ".py",
   "mimetype": "text/x-python",
   "name": "python",
   "nbconvert_exporter": "python",
   "pygments_lexer": "ipython3",
   "version": "3.11.5"
  }
 },
 "nbformat": 4,
 "nbformat_minor": 5
}

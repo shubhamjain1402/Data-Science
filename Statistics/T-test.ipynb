{
 "cells": [
  {
   "cell_type": "code",
   "execution_count": 5,
   "id": "2be346ab-0b13-45e4-80f8-9be392e950bf",
   "metadata": {},
   "outputs": [],
   "source": [
    "import scipy.stats as st\n",
    "import numpy as np"
   ]
  },
  {
   "cell_type": "code",
   "execution_count": 3,
   "id": "7c25a472-34b3-4aac-b2f5-43ef0f85bf06",
   "metadata": {},
   "outputs": [
    {
     "data": {
      "text/plain": [
       "2.024394163911969"
      ]
     },
     "execution_count": 3,
     "metadata": {},
     "output_type": "execute_result"
    }
   ],
   "source": [
    "t_table=st.t.ppf(1-0.025,38)\n",
    "t_table"
   ]
  },
  {
   "cell_type": "code",
   "execution_count": 6,
   "id": "4e4cc612-d584-4209-a0cf-aae98e0fa514",
   "metadata": {},
   "outputs": [
    {
     "data": {
      "text/plain": [
       "3.1311214554257476"
      ]
     },
     "execution_count": 6,
     "metadata": {},
     "output_type": "execute_result"
    }
   ],
   "source": [
    "t_cal=(80-75)/(np.sqrt((25/20)+(26/20)))\n",
    "t_cal"
   ]
  },
  {
   "cell_type": "code",
   "execution_count": 7,
   "id": "ad9f962a-4e22-4d57-a674-5231665c5228",
   "metadata": {},
   "outputs": [],
   "source": [
    "ob=np.array([22,17,20,26,22,13])\n",
    "ex=np.array([20,20,20,20,20,20])"
   ]
  },
  {
   "cell_type": "code",
   "execution_count": 8,
   "id": "a33d232c-3629-446d-a6ba-f1c623d62997",
   "metadata": {},
   "outputs": [
    {
     "data": {
      "text/plain": [
       "5.1000000000000005"
      ]
     },
     "execution_count": 8,
     "metadata": {},
     "output_type": "execute_result"
    }
   ],
   "source": [
    "np.sum(np.square(ob-ex)/ex)"
   ]
  },
  {
   "cell_type": "code",
   "execution_count": 9,
   "id": "8f7d1c74-3076-4116-8569-b216a0d5c643",
   "metadata": {},
   "outputs": [],
   "source": [
    "row1=np.array([40,45,25,10])\n",
    "row2=np.array([35,30,20,30])"
   ]
  },
  {
   "cell_type": "code",
   "execution_count": 13,
   "id": "f9b50537-1728-478b-98e1-7ec057e1ebbb",
   "metadata": {},
   "outputs": [
    {
     "data": {
      "text/plain": [
       "array([120, 115])"
      ]
     },
     "execution_count": 13,
     "metadata": {},
     "output_type": "execute_result"
    }
   ],
   "source": [
    "sum_r1=np.sum(row1)\n",
    "sum_r2=np.sum(row2)\n",
    "sum_row=np.array([sum_r1,sum_r2])\n",
    "sum_row"
   ]
  },
  {
   "cell_type": "code",
   "execution_count": 12,
   "id": "3aa61fd7-5db3-4567-ace5-3f0ee5c1d401",
   "metadata": {},
   "outputs": [
    {
     "data": {
      "text/plain": [
       "array([75, 75, 45, 40])"
      ]
     },
     "execution_count": 12,
     "metadata": {},
     "output_type": "execute_result"
    }
   ],
   "source": [
    "sum_col=row1+row2\n",
    "sum_col"
   ]
  },
  {
   "cell_type": "code",
   "execution_count": 17,
   "id": "76a2a1c3-6250-4c85-aba8-9d1c20a1379a",
   "metadata": {},
   "outputs": [],
   "source": [
    "exp=[]\n",
    "for i in sum_row:\n",
    "     for j in sum_col:\n",
    "         value=(i*j)/235\n",
    "         exp.append(value)"
   ]
  },
  {
   "cell_type": "code",
   "execution_count": 18,
   "id": "623d75cd-91c7-4eda-b1a0-177a605fcde7",
   "metadata": {},
   "outputs": [],
   "source": [
    "obj=np.array([40,45,25,10,35,30,20,30])"
   ]
  },
  {
   "cell_type": "code",
   "execution_count": 20,
   "id": "a28a6331-acf8-49a1-8be6-ea81e7c35b23",
   "metadata": {},
   "outputs": [
    {
     "data": {
      "text/plain": [
       "13.788747987117553"
      ]
     },
     "execution_count": 20,
     "metadata": {},
     "output_type": "execute_result"
    }
   ],
   "source": [
    "np.sum(np.square(obj-exp)/exp)"
   ]
  },
  {
   "cell_type": "code",
   "execution_count": null,
   "id": "8573b02b-39b4-46e0-b088-89def72e3e40",
   "metadata": {},
   "outputs": [],
   "source": []
  }
 ],
 "metadata": {
  "kernelspec": {
   "display_name": "Python 3 (ipykernel)",
   "language": "python",
   "name": "python3"
  },
  "language_info": {
   "codemirror_mode": {
    "name": "ipython",
    "version": 3
   },
   "file_extension": ".py",
   "mimetype": "text/x-python",
   "name": "python",
   "nbconvert_exporter": "python",
   "pygments_lexer": "ipython3",
   "version": "3.11.5"
  }
 },
 "nbformat": 4,
 "nbformat_minor": 5
}

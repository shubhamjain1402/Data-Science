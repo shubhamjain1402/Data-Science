{
 "cells": [
  {
   "cell_type": "code",
   "execution_count": 45,
   "id": "c041bac4-d246-460d-a852-871dbc872b0e",
   "metadata": {},
   "outputs": [],
   "source": [
    "import numpy as np\n",
    "import pandas as pd\n",
    "import matplotlib.pyplot as plt\n",
    "import seaborn as sns"
   ]
  },
  {
   "cell_type": "code",
   "execution_count": 46,
   "id": "4de4cf8b-f1b4-4ac3-8fdb-8f49e1eb569a",
   "metadata": {},
   "outputs": [],
   "source": [
    "dataset = pd.read_csv(\"C:\\\\Users\\\\shubh\\\\Downloads\\\\Coding\\\\ML\\\\Statistics\\\\datasets\\\\titanic.csv\")"
   ]
  },
  {
   "cell_type": "code",
   "execution_count": 47,
   "id": "03ec5041-de95-438d-859b-a70e9210adaf",
   "metadata": {},
   "outputs": [
    {
     "data": {
      "text/html": [
       "<div>\n",
       "<style scoped>\n",
       "    .dataframe tbody tr th:only-of-type {\n",
       "        vertical-align: middle;\n",
       "    }\n",
       "\n",
       "    .dataframe tbody tr th {\n",
       "        vertical-align: top;\n",
       "    }\n",
       "\n",
       "    .dataframe thead th {\n",
       "        text-align: right;\n",
       "    }\n",
       "</style>\n",
       "<table border=\"1\" class=\"dataframe\">\n",
       "  <thead>\n",
       "    <tr style=\"text-align: right;\">\n",
       "      <th></th>\n",
       "      <th>Passengerid</th>\n",
       "      <th>Age</th>\n",
       "      <th>Fare</th>\n",
       "      <th>Sex</th>\n",
       "      <th>sibsp</th>\n",
       "      <th>zero</th>\n",
       "      <th>zero.1</th>\n",
       "      <th>zero.2</th>\n",
       "      <th>zero.3</th>\n",
       "      <th>zero.4</th>\n",
       "      <th>...</th>\n",
       "      <th>zero.12</th>\n",
       "      <th>zero.13</th>\n",
       "      <th>zero.14</th>\n",
       "      <th>Pclass</th>\n",
       "      <th>zero.15</th>\n",
       "      <th>zero.16</th>\n",
       "      <th>Embarked</th>\n",
       "      <th>zero.17</th>\n",
       "      <th>zero.18</th>\n",
       "      <th>2urvived</th>\n",
       "    </tr>\n",
       "  </thead>\n",
       "  <tbody>\n",
       "    <tr>\n",
       "      <th>0</th>\n",
       "      <td>1</td>\n",
       "      <td>22.0</td>\n",
       "      <td>7.2500</td>\n",
       "      <td>0</td>\n",
       "      <td>1</td>\n",
       "      <td>0</td>\n",
       "      <td>0</td>\n",
       "      <td>0</td>\n",
       "      <td>0</td>\n",
       "      <td>0</td>\n",
       "      <td>...</td>\n",
       "      <td>0</td>\n",
       "      <td>0</td>\n",
       "      <td>0</td>\n",
       "      <td>3</td>\n",
       "      <td>0</td>\n",
       "      <td>0</td>\n",
       "      <td>2.0</td>\n",
       "      <td>0</td>\n",
       "      <td>0</td>\n",
       "      <td>0</td>\n",
       "    </tr>\n",
       "    <tr>\n",
       "      <th>1</th>\n",
       "      <td>2</td>\n",
       "      <td>38.0</td>\n",
       "      <td>71.2833</td>\n",
       "      <td>1</td>\n",
       "      <td>1</td>\n",
       "      <td>0</td>\n",
       "      <td>0</td>\n",
       "      <td>0</td>\n",
       "      <td>0</td>\n",
       "      <td>0</td>\n",
       "      <td>...</td>\n",
       "      <td>0</td>\n",
       "      <td>0</td>\n",
       "      <td>0</td>\n",
       "      <td>1</td>\n",
       "      <td>0</td>\n",
       "      <td>0</td>\n",
       "      <td>0.0</td>\n",
       "      <td>0</td>\n",
       "      <td>0</td>\n",
       "      <td>1</td>\n",
       "    </tr>\n",
       "    <tr>\n",
       "      <th>2</th>\n",
       "      <td>3</td>\n",
       "      <td>26.0</td>\n",
       "      <td>7.9250</td>\n",
       "      <td>1</td>\n",
       "      <td>0</td>\n",
       "      <td>0</td>\n",
       "      <td>0</td>\n",
       "      <td>0</td>\n",
       "      <td>0</td>\n",
       "      <td>0</td>\n",
       "      <td>...</td>\n",
       "      <td>0</td>\n",
       "      <td>0</td>\n",
       "      <td>0</td>\n",
       "      <td>3</td>\n",
       "      <td>0</td>\n",
       "      <td>0</td>\n",
       "      <td>2.0</td>\n",
       "      <td>0</td>\n",
       "      <td>0</td>\n",
       "      <td>1</td>\n",
       "    </tr>\n",
       "    <tr>\n",
       "      <th>3</th>\n",
       "      <td>4</td>\n",
       "      <td>35.0</td>\n",
       "      <td>53.1000</td>\n",
       "      <td>1</td>\n",
       "      <td>1</td>\n",
       "      <td>0</td>\n",
       "      <td>0</td>\n",
       "      <td>0</td>\n",
       "      <td>0</td>\n",
       "      <td>0</td>\n",
       "      <td>...</td>\n",
       "      <td>0</td>\n",
       "      <td>0</td>\n",
       "      <td>0</td>\n",
       "      <td>1</td>\n",
       "      <td>0</td>\n",
       "      <td>0</td>\n",
       "      <td>2.0</td>\n",
       "      <td>0</td>\n",
       "      <td>0</td>\n",
       "      <td>1</td>\n",
       "    </tr>\n",
       "    <tr>\n",
       "      <th>4</th>\n",
       "      <td>5</td>\n",
       "      <td>35.0</td>\n",
       "      <td>8.0500</td>\n",
       "      <td>0</td>\n",
       "      <td>0</td>\n",
       "      <td>0</td>\n",
       "      <td>0</td>\n",
       "      <td>0</td>\n",
       "      <td>0</td>\n",
       "      <td>0</td>\n",
       "      <td>...</td>\n",
       "      <td>0</td>\n",
       "      <td>0</td>\n",
       "      <td>0</td>\n",
       "      <td>3</td>\n",
       "      <td>0</td>\n",
       "      <td>0</td>\n",
       "      <td>2.0</td>\n",
       "      <td>0</td>\n",
       "      <td>0</td>\n",
       "      <td>0</td>\n",
       "    </tr>\n",
       "  </tbody>\n",
       "</table>\n",
       "<p>5 rows × 28 columns</p>\n",
       "</div>"
      ],
      "text/plain": [
       "   Passengerid   Age     Fare  Sex  sibsp  zero  zero.1  zero.2  zero.3  \\\n",
       "0            1  22.0   7.2500    0      1     0       0       0       0   \n",
       "1            2  38.0  71.2833    1      1     0       0       0       0   \n",
       "2            3  26.0   7.9250    1      0     0       0       0       0   \n",
       "3            4  35.0  53.1000    1      1     0       0       0       0   \n",
       "4            5  35.0   8.0500    0      0     0       0       0       0   \n",
       "\n",
       "   zero.4  ...  zero.12  zero.13  zero.14  Pclass  zero.15  zero.16  Embarked  \\\n",
       "0       0  ...        0        0        0       3        0        0       2.0   \n",
       "1       0  ...        0        0        0       1        0        0       0.0   \n",
       "2       0  ...        0        0        0       3        0        0       2.0   \n",
       "3       0  ...        0        0        0       1        0        0       2.0   \n",
       "4       0  ...        0        0        0       3        0        0       2.0   \n",
       "\n",
       "   zero.17  zero.18  2urvived  \n",
       "0        0        0         0  \n",
       "1        0        0         1  \n",
       "2        0        0         1  \n",
       "3        0        0         1  \n",
       "4        0        0         0  \n",
       "\n",
       "[5 rows x 28 columns]"
      ]
     },
     "execution_count": 47,
     "metadata": {},
     "output_type": "execute_result"
    }
   ],
   "source": [
    "dataset.head()"
   ]
  },
  {
   "cell_type": "code",
   "execution_count": 48,
   "id": "bcc9fcfa-76af-4146-af6f-d243378e5a81",
   "metadata": {},
   "outputs": [],
   "source": [
    "min_r=dataset[\"Age\"].min()\n",
    "max_r=dataset[\"Age\"].max()"
   ]
  },
  {
   "cell_type": "code",
   "execution_count": 49,
   "id": "d5765210-2d40-4d2a-985d-a4ea08dc8be9",
   "metadata": {},
   "outputs": [
    {
     "data": {
      "text/plain": [
       "(0.17, 80.0)"
      ]
     },
     "execution_count": 49,
     "metadata": {},
     "output_type": "execute_result"
    }
   ],
   "source": [
    "min_r,max_r"
   ]
  },
  {
   "cell_type": "code",
   "execution_count": 50,
   "id": "670490f5-503f-4885-bae6-38191f199b92",
   "metadata": {},
   "outputs": [],
   "source": [
    "range=max_r-min_r"
   ]
  },
  {
   "cell_type": "code",
   "execution_count": 51,
   "id": "b125c99d-39de-4411-8e8b-de10cde75d33",
   "metadata": {},
   "outputs": [
    {
     "data": {
      "text/plain": [
       "79.83"
      ]
     },
     "execution_count": 51,
     "metadata": {},
     "output_type": "execute_result"
    }
   ],
   "source": [
    "range"
   ]
  },
  {
   "cell_type": "code",
   "execution_count": 52,
   "id": "1775bc42-8a01-49b9-93ec-0aa9920ee3c1",
   "metadata": {},
   "outputs": [],
   "source": [
    "sec_a=np.array([75,65,73,68,72,76])\n",
    "sec_b=np.array([90,47,43,96,93,51])\n",
    "no=np.array([1,2,3,4,5,6])"
   ]
  },
  {
   "cell_type": "code",
   "execution_count": 53,
   "id": "4ca754cf-1a4b-4243-a9a2-d4c92f7f6342",
   "metadata": {},
   "outputs": [],
   "source": [
    "mean=np.mean(sec_b)"
   ]
  },
  {
   "cell_type": "code",
   "execution_count": 54,
   "id": "961e6d4c-90b9-44a0-bab8-99f10f536ea8",
   "metadata": {},
   "outputs": [],
   "source": [
    "mad_a=np.sum(np.abs(sec_a-mean))/len(sec_a)\n",
    "mad_b=np.sum(np.abs(sec_b-mean))/len(sec_b)"
   ]
  },
  {
   "cell_type": "code",
   "execution_count": 55,
   "id": "f2f8f36b-c50a-440c-8764-a893ac4bedaa",
   "metadata": {},
   "outputs": [
    {
     "data": {
      "text/plain": [
       "(3.8333333333333335, 23.0)"
      ]
     },
     "execution_count": 55,
     "metadata": {},
     "output_type": "execute_result"
    }
   ],
   "source": [
    "mad_a,mad_b"
   ]
  },
  {
   "cell_type": "code",
   "execution_count": 56,
   "id": "b615d02e-4ad5-4838-b150-fd9b5a026cad",
   "metadata": {},
   "outputs": [
    {
     "data": {
      "text/plain": [
       "(3.8622100754188224, 23.18045153428495)"
      ]
     },
     "execution_count": 56,
     "metadata": {},
     "output_type": "execute_result"
    }
   ],
   "source": [
    "np.std(sec_a),np.std(sec_b)"
   ]
  },
  {
   "cell_type": "code",
   "execution_count": 57,
   "id": "35b58c75-43e8-42ca-9b3c-830abf6bd95d",
   "metadata": {},
   "outputs": [
    {
     "data": {
      "text/plain": [
       "(14.916666666666666, 537.3333333333334)"
      ]
     },
     "execution_count": 57,
     "metadata": {},
     "output_type": "execute_result"
    }
   ],
   "source": [
    "np.var(sec_a),np.var(sec_b)"
   ]
  },
  {
   "cell_type": "code",
   "execution_count": 59,
   "id": "79bf395a-8d21-439e-9154-c34c96d72b49",
   "metadata": {},
   "outputs": [
    {
     "data": {
      "text/plain": [
       "166.54523456872323"
      ]
     },
     "execution_count": 59,
     "metadata": {},
     "output_type": "execute_result"
    }
   ],
   "source": [
    "dataset[\"Age\"].var()"
   ]
  },
  {
   "cell_type": "code",
   "execution_count": 61,
   "id": "6b789e37-b118-4af8-aa7d-11fcdc1b3836",
   "metadata": {},
   "outputs": [
    {
     "data": {
      "text/plain": [
       "12.905240585464622"
      ]
     },
     "execution_count": 61,
     "metadata": {},
     "output_type": "execute_result"
    }
   ],
   "source": [
    "dataset[\"Age\"].std()"
   ]
  },
  {
   "cell_type": "code",
   "execution_count": 62,
   "id": "3e4e3965-69db-4c26-9b3d-317c84168dfb",
   "metadata": {},
   "outputs": [
    {
     "data": {
      "text/html": [
       "<div>\n",
       "<style scoped>\n",
       "    .dataframe tbody tr th:only-of-type {\n",
       "        vertical-align: middle;\n",
       "    }\n",
       "\n",
       "    .dataframe tbody tr th {\n",
       "        vertical-align: top;\n",
       "    }\n",
       "\n",
       "    .dataframe thead th {\n",
       "        text-align: right;\n",
       "    }\n",
       "</style>\n",
       "<table border=\"1\" class=\"dataframe\">\n",
       "  <thead>\n",
       "    <tr style=\"text-align: right;\">\n",
       "      <th></th>\n",
       "      <th>Passengerid</th>\n",
       "      <th>Age</th>\n",
       "      <th>Fare</th>\n",
       "      <th>Sex</th>\n",
       "      <th>sibsp</th>\n",
       "      <th>zero</th>\n",
       "      <th>zero.1</th>\n",
       "      <th>zero.2</th>\n",
       "      <th>zero.3</th>\n",
       "      <th>zero.4</th>\n",
       "      <th>...</th>\n",
       "      <th>zero.12</th>\n",
       "      <th>zero.13</th>\n",
       "      <th>zero.14</th>\n",
       "      <th>Pclass</th>\n",
       "      <th>zero.15</th>\n",
       "      <th>zero.16</th>\n",
       "      <th>Embarked</th>\n",
       "      <th>zero.17</th>\n",
       "      <th>zero.18</th>\n",
       "      <th>2urvived</th>\n",
       "    </tr>\n",
       "  </thead>\n",
       "  <tbody>\n",
       "    <tr>\n",
       "      <th>count</th>\n",
       "      <td>1309.000000</td>\n",
       "      <td>1309.000000</td>\n",
       "      <td>1309.000000</td>\n",
       "      <td>1309.000000</td>\n",
       "      <td>1309.000000</td>\n",
       "      <td>1309.0</td>\n",
       "      <td>1309.0</td>\n",
       "      <td>1309.0</td>\n",
       "      <td>1309.0</td>\n",
       "      <td>1309.0</td>\n",
       "      <td>...</td>\n",
       "      <td>1309.0</td>\n",
       "      <td>1309.0</td>\n",
       "      <td>1309.0</td>\n",
       "      <td>1309.000000</td>\n",
       "      <td>1309.0</td>\n",
       "      <td>1309.0</td>\n",
       "      <td>1307.000000</td>\n",
       "      <td>1309.0</td>\n",
       "      <td>1309.0</td>\n",
       "      <td>1309.000000</td>\n",
       "    </tr>\n",
       "    <tr>\n",
       "      <th>mean</th>\n",
       "      <td>655.000000</td>\n",
       "      <td>29.503186</td>\n",
       "      <td>33.281086</td>\n",
       "      <td>0.355997</td>\n",
       "      <td>0.498854</td>\n",
       "      <td>0.0</td>\n",
       "      <td>0.0</td>\n",
       "      <td>0.0</td>\n",
       "      <td>0.0</td>\n",
       "      <td>0.0</td>\n",
       "      <td>...</td>\n",
       "      <td>0.0</td>\n",
       "      <td>0.0</td>\n",
       "      <td>0.0</td>\n",
       "      <td>2.294882</td>\n",
       "      <td>0.0</td>\n",
       "      <td>0.0</td>\n",
       "      <td>1.492731</td>\n",
       "      <td>0.0</td>\n",
       "      <td>0.0</td>\n",
       "      <td>0.261268</td>\n",
       "    </tr>\n",
       "    <tr>\n",
       "      <th>std</th>\n",
       "      <td>378.020061</td>\n",
       "      <td>12.905241</td>\n",
       "      <td>51.741500</td>\n",
       "      <td>0.478997</td>\n",
       "      <td>1.041658</td>\n",
       "      <td>0.0</td>\n",
       "      <td>0.0</td>\n",
       "      <td>0.0</td>\n",
       "      <td>0.0</td>\n",
       "      <td>0.0</td>\n",
       "      <td>...</td>\n",
       "      <td>0.0</td>\n",
       "      <td>0.0</td>\n",
       "      <td>0.0</td>\n",
       "      <td>0.837836</td>\n",
       "      <td>0.0</td>\n",
       "      <td>0.0</td>\n",
       "      <td>0.814626</td>\n",
       "      <td>0.0</td>\n",
       "      <td>0.0</td>\n",
       "      <td>0.439494</td>\n",
       "    </tr>\n",
       "    <tr>\n",
       "      <th>min</th>\n",
       "      <td>1.000000</td>\n",
       "      <td>0.170000</td>\n",
       "      <td>0.000000</td>\n",
       "      <td>0.000000</td>\n",
       "      <td>0.000000</td>\n",
       "      <td>0.0</td>\n",
       "      <td>0.0</td>\n",
       "      <td>0.0</td>\n",
       "      <td>0.0</td>\n",
       "      <td>0.0</td>\n",
       "      <td>...</td>\n",
       "      <td>0.0</td>\n",
       "      <td>0.0</td>\n",
       "      <td>0.0</td>\n",
       "      <td>1.000000</td>\n",
       "      <td>0.0</td>\n",
       "      <td>0.0</td>\n",
       "      <td>0.000000</td>\n",
       "      <td>0.0</td>\n",
       "      <td>0.0</td>\n",
       "      <td>0.000000</td>\n",
       "    </tr>\n",
       "    <tr>\n",
       "      <th>25%</th>\n",
       "      <td>328.000000</td>\n",
       "      <td>22.000000</td>\n",
       "      <td>7.895800</td>\n",
       "      <td>0.000000</td>\n",
       "      <td>0.000000</td>\n",
       "      <td>0.0</td>\n",
       "      <td>0.0</td>\n",
       "      <td>0.0</td>\n",
       "      <td>0.0</td>\n",
       "      <td>0.0</td>\n",
       "      <td>...</td>\n",
       "      <td>0.0</td>\n",
       "      <td>0.0</td>\n",
       "      <td>0.0</td>\n",
       "      <td>2.000000</td>\n",
       "      <td>0.0</td>\n",
       "      <td>0.0</td>\n",
       "      <td>1.000000</td>\n",
       "      <td>0.0</td>\n",
       "      <td>0.0</td>\n",
       "      <td>0.000000</td>\n",
       "    </tr>\n",
       "    <tr>\n",
       "      <th>50%</th>\n",
       "      <td>655.000000</td>\n",
       "      <td>28.000000</td>\n",
       "      <td>14.454200</td>\n",
       "      <td>0.000000</td>\n",
       "      <td>0.000000</td>\n",
       "      <td>0.0</td>\n",
       "      <td>0.0</td>\n",
       "      <td>0.0</td>\n",
       "      <td>0.0</td>\n",
       "      <td>0.0</td>\n",
       "      <td>...</td>\n",
       "      <td>0.0</td>\n",
       "      <td>0.0</td>\n",
       "      <td>0.0</td>\n",
       "      <td>3.000000</td>\n",
       "      <td>0.0</td>\n",
       "      <td>0.0</td>\n",
       "      <td>2.000000</td>\n",
       "      <td>0.0</td>\n",
       "      <td>0.0</td>\n",
       "      <td>0.000000</td>\n",
       "    </tr>\n",
       "    <tr>\n",
       "      <th>75%</th>\n",
       "      <td>982.000000</td>\n",
       "      <td>35.000000</td>\n",
       "      <td>31.275000</td>\n",
       "      <td>1.000000</td>\n",
       "      <td>1.000000</td>\n",
       "      <td>0.0</td>\n",
       "      <td>0.0</td>\n",
       "      <td>0.0</td>\n",
       "      <td>0.0</td>\n",
       "      <td>0.0</td>\n",
       "      <td>...</td>\n",
       "      <td>0.0</td>\n",
       "      <td>0.0</td>\n",
       "      <td>0.0</td>\n",
       "      <td>3.000000</td>\n",
       "      <td>0.0</td>\n",
       "      <td>0.0</td>\n",
       "      <td>2.000000</td>\n",
       "      <td>0.0</td>\n",
       "      <td>0.0</td>\n",
       "      <td>1.000000</td>\n",
       "    </tr>\n",
       "    <tr>\n",
       "      <th>max</th>\n",
       "      <td>1309.000000</td>\n",
       "      <td>80.000000</td>\n",
       "      <td>512.329200</td>\n",
       "      <td>1.000000</td>\n",
       "      <td>8.000000</td>\n",
       "      <td>0.0</td>\n",
       "      <td>0.0</td>\n",
       "      <td>0.0</td>\n",
       "      <td>0.0</td>\n",
       "      <td>0.0</td>\n",
       "      <td>...</td>\n",
       "      <td>0.0</td>\n",
       "      <td>0.0</td>\n",
       "      <td>0.0</td>\n",
       "      <td>3.000000</td>\n",
       "      <td>0.0</td>\n",
       "      <td>0.0</td>\n",
       "      <td>2.000000</td>\n",
       "      <td>0.0</td>\n",
       "      <td>0.0</td>\n",
       "      <td>1.000000</td>\n",
       "    </tr>\n",
       "  </tbody>\n",
       "</table>\n",
       "<p>8 rows × 28 columns</p>\n",
       "</div>"
      ],
      "text/plain": [
       "       Passengerid          Age         Fare          Sex        sibsp  \\\n",
       "count  1309.000000  1309.000000  1309.000000  1309.000000  1309.000000   \n",
       "mean    655.000000    29.503186    33.281086     0.355997     0.498854   \n",
       "std     378.020061    12.905241    51.741500     0.478997     1.041658   \n",
       "min       1.000000     0.170000     0.000000     0.000000     0.000000   \n",
       "25%     328.000000    22.000000     7.895800     0.000000     0.000000   \n",
       "50%     655.000000    28.000000    14.454200     0.000000     0.000000   \n",
       "75%     982.000000    35.000000    31.275000     1.000000     1.000000   \n",
       "max    1309.000000    80.000000   512.329200     1.000000     8.000000   \n",
       "\n",
       "         zero  zero.1  zero.2  zero.3  zero.4  ...  zero.12  zero.13  zero.14  \\\n",
       "count  1309.0  1309.0  1309.0  1309.0  1309.0  ...   1309.0   1309.0   1309.0   \n",
       "mean      0.0     0.0     0.0     0.0     0.0  ...      0.0      0.0      0.0   \n",
       "std       0.0     0.0     0.0     0.0     0.0  ...      0.0      0.0      0.0   \n",
       "min       0.0     0.0     0.0     0.0     0.0  ...      0.0      0.0      0.0   \n",
       "25%       0.0     0.0     0.0     0.0     0.0  ...      0.0      0.0      0.0   \n",
       "50%       0.0     0.0     0.0     0.0     0.0  ...      0.0      0.0      0.0   \n",
       "75%       0.0     0.0     0.0     0.0     0.0  ...      0.0      0.0      0.0   \n",
       "max       0.0     0.0     0.0     0.0     0.0  ...      0.0      0.0      0.0   \n",
       "\n",
       "            Pclass  zero.15  zero.16     Embarked  zero.17  zero.18  \\\n",
       "count  1309.000000   1309.0   1309.0  1307.000000   1309.0   1309.0   \n",
       "mean      2.294882      0.0      0.0     1.492731      0.0      0.0   \n",
       "std       0.837836      0.0      0.0     0.814626      0.0      0.0   \n",
       "min       1.000000      0.0      0.0     0.000000      0.0      0.0   \n",
       "25%       2.000000      0.0      0.0     1.000000      0.0      0.0   \n",
       "50%       3.000000      0.0      0.0     2.000000      0.0      0.0   \n",
       "75%       3.000000      0.0      0.0     2.000000      0.0      0.0   \n",
       "max       3.000000      0.0      0.0     2.000000      0.0      0.0   \n",
       "\n",
       "          2urvived  \n",
       "count  1309.000000  \n",
       "mean      0.261268  \n",
       "std       0.439494  \n",
       "min       0.000000  \n",
       "25%       0.000000  \n",
       "50%       0.000000  \n",
       "75%       1.000000  \n",
       "max       1.000000  \n",
       "\n",
       "[8 rows x 28 columns]"
      ]
     },
     "execution_count": 62,
     "metadata": {},
     "output_type": "execute_result"
    }
   ],
   "source": [
    "dataset.describe()"
   ]
  },
  {
   "cell_type": "code",
   "execution_count": 60,
   "id": "45a3d98c-08aa-4a64-99b8-21cf07ea15b1",
   "metadata": {},
   "outputs": [
    {
     "data": {
      "image/png": "[encoded data removed]",
      "text/plain": [
       "<Figure size 640x480 with 1 Axes>"
      ]
     },
     "metadata": {},
     "output_type": "display_data"
    }
   ],
   "source": [
    "sns.histplot(x=\"Age\",data=dataset)\n",
    "plt.show()"
   ]
  },
  {
   "cell_type": "code",
   "execution_count": 58,
   "id": "3ebd098a-d247-4ab1-b7b5-620dd8b91b3c",
   "metadata": {},
   "outputs": [
    {
     "data": {
      "image/png": "[encoded data removed]",
      "text/plain": [
       "<Figure size 1000x300 with 1 Axes>"
      ]
     },
     "metadata": {},
     "output_type": "display_data"
    }
   ],
   "source": [
    "plt.figure(figsize=(10,3))\n",
    "plt.scatter(sec_a,no,label=\"sec A\")\n",
    "plt.scatter(sec_b,no,color=\"red\",label=\"sec B\")\n",
    "plt.plot([mean] * len(no),no,c=\"blue\",label=\"Mean\")\n",
    "plt.xlabel(\"X-axis\")\n",
    "plt.ylabel(\"Y-axis\")\n",
    "plt.title(\"Example Plot\")\n",
    "plt.legend()\n",
    "plt.show()"
   ]
  },
  {
   "cell_type": "code",
   "execution_count": null,
   "id": "607c1327-01b1-452b-a28d-00ffa5ae4dbf",
   "metadata": {},
   "outputs": [],
   "source": []
  }
 ],
 "metadata": {
  "kernelspec": {
   "display_name": "Python 3 (ipykernel)",
   "language": "python",
   "name": "python3"
  },
  "language_info": {
   "codemirror_mode": {
    "name": "ipython",
    "version": 3
   },
   "file_extension": ".py",
   "mimetype": "text/x-python",
   "name": "python",
   "nbconvert_exporter": "python",
   "pygments_lexer": "ipython3",
   "version": "3.11.5"
  }
 },
 "nbformat": 4,
 "nbformat_minor": 5
}
